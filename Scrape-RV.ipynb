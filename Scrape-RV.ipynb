{
 "cells": [
  {
   "cell_type": "markdown",
   "metadata": {},
   "source": [
    "\n",
    "### Finding Underpriced RVs on Craigslist\n",
    "\n",
    "![](https://snag.gy/WrdUMx.jpg)"
   ]
  },
  {
   "cell_type": "markdown",
   "metadata": {},
   "source": [
    "In this project I will be web scraping\n",
    "\n",
    "> In order to run code from the command line, instead of the notebook, I can just save the code to a file (with a .py extension), and run it using the Python interpreter:<br><br>\n",
    "> `python my_file.py`\n",
    "\n",
    "I will be building a process to scrape a single category of search results on Craigslist, that can easily be applied to other categories by changing the search terms.  The main goal is to be able to target and scrape a single page given a set of parameters.\n",
    "\n",
    "**I use Scrapy, so will provide the code in a folder.**"
   ]
  },
  {
   "cell_type": "markdown",
   "metadata": {},
   "source": [
    "## Import  libraries for scrapy / requests / pandas / numpy / etc\n",
    "Setup whichever libraries as need. Review past material for reference."
   ]
  },
  {
   "cell_type": "code",
   "execution_count": 71,
   "metadata": {
    "collapsed": false
   },
   "outputs": [],
   "source": [
    "# PREPARE REQUIRED LIBRARIES\n",
    "import pandas as pd\n",
    "\n",
    "import numpy as np\n",
    "#import pandas.Serie as pd_series\n",
    "\n",
    "\n",
    "from scrapy.selector import Selector\n",
    "from scrapy.http import HtmlResponse\n",
    "\n",
    "import requests\n",
    "\n",
    "import matplotlib.pyplot as plt\n",
    "import numpy as np\n",
    "import pandas as pd\n",
    "import seaborn as sns\n",
    "import scipy.stats as stats\n",
    "\n",
    "plt.style.use('fivethirtyeight')\n",
    "\n",
    "from ipywidgets import *\n",
    "from IPython.display import display\n",
    "\n",
    "%matplotlib inline\n",
    "%config InlineBackend.figure_format = 'retina'"
   ]
  },
  {
   "cell_type": "markdown",
   "metadata": {},
   "source": [
    "\n",
    "\n",
    "## 1.  Scrape for the largest US cities (non-exhaustive list)\n",
    "Search, research, and scrape Wikipedia for a list of the largest US cities.  There are a few sources but find one that is in a nice table.  We don't want all cities, just signifficant cities.  Examine the source.  Look for what can be differentiable.\n",
    "\n",
    "- Use requests\n",
    "- Build XPath query(ies)\n",
    "- Extract to a list\n",
    "- Clean my list"
   ]
  },
  {
   "cell_type": "code",
   "execution_count": 2,
   "metadata": {
    "collapsed": false
   },
   "outputs": [
    {
     "data": {
      "text/plain": [
       "u'<!DOCTYPE html>\\n<html class=\"client-nojs\" lang=\"en\" dir=\"ltr\">\\n<head>\\n<meta charset=\"UTF-8\"/>\\n<title>List of United States cities by population - Wiki'"
      ]
     },
     "execution_count": 2,
     "metadata": {},
     "output_type": "execute_result"
    }
   ],
   "source": [
    "# SCRAPE WIKIPEDIA FOR LARGEST US CITIES (NON-EXHAUSTIVE LIST)\n",
    "response0 = requests.get(\"https://en.wikipedia.org/wiki/List_of_United_States_cities_by_population\")\n",
    "HTML0 = response0.text  \n",
    "HTML0[0:150]"
   ]
  },
  {
   "cell_type": "code",
   "execution_count": 3,
   "metadata": {
    "collapsed": false
   },
   "outputs": [
    {
     "data": {
      "text/html": [
       "<div>\n",
       "<table border=\"1\" class=\"dataframe\">\n",
       "  <thead>\n",
       "    <tr style=\"text-align: right;\">\n",
       "      <th></th>\n",
       "      <th>0</th>\n",
       "    </tr>\n",
       "  </thead>\n",
       "  <tbody>\n",
       "    <tr>\n",
       "      <th>0</th>\n",
       "      <td>San Antonio</td>\n",
       "    </tr>\n",
       "    <tr>\n",
       "      <th>1</th>\n",
       "      <td>San Diego</td>\n",
       "    </tr>\n",
       "    <tr>\n",
       "      <th>2</th>\n",
       "      <td>Dallas</td>\n",
       "    </tr>\n",
       "    <tr>\n",
       "      <th>3</th>\n",
       "      <td>San Jose</td>\n",
       "    </tr>\n",
       "    <tr>\n",
       "      <th>4</th>\n",
       "      <td>San Francisco</td>\n",
       "    </tr>\n",
       "  </tbody>\n",
       "</table>\n",
       "</div>"
      ],
      "text/plain": [
       "               0\n",
       "0    San Antonio\n",
       "1      San Diego\n",
       "2         Dallas\n",
       "3       San Jose\n",
       "4  San Francisco"
      ]
     },
     "execution_count": 3,
     "metadata": {},
     "output_type": "execute_result"
    }
   ],
   "source": [
    "cities0 = Selector(text=HTML0).xpath(\"//tr/td[2]/a/text()\").extract()\n",
    "df0 = pd.DataFrame(cities0)\n",
    "df0.head()"
   ]
  },
  {
   "cell_type": "code",
   "execution_count": 4,
   "metadata": {
    "collapsed": false
   },
   "outputs": [
    {
     "data": {
      "text/plain": [
       "u'<!DOCTYPE html>\\n<html>\\n<head>\\n\\n<link rel=\"icon\" href=\"http://i.infopls.com/favicon.ico\" type=\"image/x-icon\"/>\\n<link rel=\"shortcut icon\" href=\"http://i'"
      ]
     },
     "execution_count": 4,
     "metadata": {},
     "output_type": "execute_result"
    }
   ],
   "source": [
    "# Found this site instead w the top ten cities. \n",
    "response = requests.get(\"http://www.infoplease.com/toptens/largestcities.html\")\n",
    "HTML = response.text  \n",
    "HTML[0:150]"
   ]
  },
  {
   "cell_type": "code",
   "execution_count": 5,
   "metadata": {
    "collapsed": false
   },
   "outputs": [
    {
     "data": {
      "text/html": [
       "<div>\n",
       "<table border=\"1\" class=\"dataframe\">\n",
       "  <thead>\n",
       "    <tr style=\"text-align: right;\">\n",
       "      <th></th>\n",
       "      <th>0</th>\n",
       "    </tr>\n",
       "  </thead>\n",
       "  <tbody>\n",
       "    <tr>\n",
       "      <th>0</th>\n",
       "      <td>New York, N.Y.</td>\n",
       "    </tr>\n",
       "    <tr>\n",
       "      <th>1</th>\n",
       "      <td>Los Angeles, Calif.</td>\n",
       "    </tr>\n",
       "    <tr>\n",
       "      <th>2</th>\n",
       "      <td>Chicago, Ill.</td>\n",
       "    </tr>\n",
       "    <tr>\n",
       "      <th>3</th>\n",
       "      <td>Houston, Tex.</td>\n",
       "    </tr>\n",
       "    <tr>\n",
       "      <th>4</th>\n",
       "      <td>Philadelphia, Pa.</td>\n",
       "    </tr>\n",
       "    <tr>\n",
       "      <th>5</th>\n",
       "      <td>Phoenix, Ariz.</td>\n",
       "    </tr>\n",
       "    <tr>\n",
       "      <th>6</th>\n",
       "      <td>San Antonio, Tex.</td>\n",
       "    </tr>\n",
       "    <tr>\n",
       "      <th>7</th>\n",
       "      <td>San Diego, Calif.</td>\n",
       "    </tr>\n",
       "    <tr>\n",
       "      <th>8</th>\n",
       "      <td>Dallas, Tex.</td>\n",
       "    </tr>\n",
       "    <tr>\n",
       "      <th>9</th>\n",
       "      <td>San Jose, Calif.</td>\n",
       "    </tr>\n",
       "  </tbody>\n",
       "</table>\n",
       "</div>"
      ],
      "text/plain": [
       "                     0\n",
       "0       New York, N.Y.\n",
       "1  Los Angeles, Calif.\n",
       "2        Chicago, Ill.\n",
       "3        Houston, Tex.\n",
       "4    Philadelphia, Pa.\n",
       "5       Phoenix, Ariz.\n",
       "6    San Antonio, Tex.\n",
       "7    San Diego, Calif.\n",
       "8         Dallas, Tex.\n",
       "9     San Jose, Calif."
      ]
     },
     "execution_count": 5,
     "metadata": {},
     "output_type": "execute_result"
    }
   ],
   "source": [
    "\n",
    "cities = Selector(text=HTML).xpath(\"//td[@class='ttcontent'][2]/text()\").extract()\n",
    "df = pd.DataFrame(cities)\n",
    "df"
   ]
  },
  {
   "cell_type": "code",
   "execution_count": 6,
   "metadata": {
    "collapsed": false
   },
   "outputs": [
    {
     "data": {
      "text/plain": [
       "0         New York, N.Y.\n",
       "1    Los Angeles, Calif.\n",
       "2          Chicago, Ill.\n",
       "3          Houston, Tex.\n",
       "4      Philadelphia, Pa.\n",
       "5         Phoenix, Ariz.\n",
       "6      San Antonio, Tex.\n",
       "7      San Diego, Calif.\n",
       "8           Dallas, Tex.\n",
       "9       San Jose, Calif.\n",
       "Name: 0, dtype: object"
      ]
     },
     "execution_count": 6,
     "metadata": {},
     "output_type": "execute_result"
    }
   ],
   "source": [
    "df[0]"
   ]
  },
  {
   "cell_type": "code",
   "execution_count": 7,
   "metadata": {
    "collapsed": false
   },
   "outputs": [],
   "source": [
    "def city_only(df):\n",
    "    df_city = []\n",
    "    for x in range(0,len(df[0])):\n",
    "        (x_city, x_State) = df[0][x].split(',') \n",
    "        #print x_city, df[0][x]\n",
    "        df_city.append(x_city)\n",
    "\n",
    "    return df_city\n",
    " \n",
    "cities = city_only(df)"
   ]
  },
  {
   "cell_type": "code",
   "execution_count": 8,
   "metadata": {
    "collapsed": false
   },
   "outputs": [
    {
     "data": {
      "text/plain": [
       "[u'newyork',\n",
       " u'losangeles',\n",
       " u'chicago',\n",
       " u'houston',\n",
       " u'philadelphia',\n",
       " u'phoenix',\n",
       " u'sanantonio',\n",
       " u'sandiego',\n",
       " u'dallas',\n",
       " u'sanjose']"
      ]
     },
     "execution_count": 8,
     "metadata": {},
     "output_type": "execute_result"
    }
   ],
   "source": [
    "# use replace to get rid of spaces, change to lower case of cities\n",
    "cities_simpler_lower = [x.lower().replace(' ','') for x in cities]\n",
    "cities_simpler_lower"
   ]
  },
  {
   "cell_type": "markdown",
   "metadata": {},
   "source": [
    "\n",
    "## 2.  Write a function to capture current pricing information via Craigslist in one city.\n",
    "I choose a city from the scraped data, then go to the cooresponding city section on Craigslist, searching for \"rv\" in the auto section.  I write a method that pulls out the prices."
   ]
  },
  {
   "cell_type": "code",
   "execution_count": 9,
   "metadata": {
    "collapsed": false
   },
   "outputs": [],
   "source": [
    "def rv_info(city):\n",
    "    \n",
    "    rv_url1 = \"http://\"+city+\".craigslist.org/search/sss?query=rv\"\n",
    "    #print rv_url1\n",
    "    response1 = requests.get(rv_url1)\n",
    "    HTML1 = response1.text  \n",
    "    HTML1[0:150]\n",
    "\n",
    "    rv_prices1 = Selector(text=HTML1).xpath(\"//span[@class='price']/text()\").extract()\n",
    "    df_prices1 = pd.DataFrame(rv_prices1)\n",
    "\n",
    "    return df_prices1"
   ]
  },
  {
   "cell_type": "code",
   "execution_count": 10,
   "metadata": {
    "collapsed": false
   },
   "outputs": [
    {
     "data": {
      "text/html": [
       "<div>\n",
       "<table border=\"1\" class=\"dataframe\">\n",
       "  <thead>\n",
       "    <tr style=\"text-align: right;\">\n",
       "      <th></th>\n",
       "      <th>0</th>\n",
       "    </tr>\n",
       "  </thead>\n",
       "  <tbody>\n",
       "    <tr>\n",
       "      <th>0</th>\n",
       "      <td>$9999</td>\n",
       "    </tr>\n",
       "    <tr>\n",
       "      <th>1</th>\n",
       "      <td>$9999</td>\n",
       "    </tr>\n",
       "    <tr>\n",
       "      <th>2</th>\n",
       "      <td>$112</td>\n",
       "    </tr>\n",
       "    <tr>\n",
       "      <th>3</th>\n",
       "      <td>$112</td>\n",
       "    </tr>\n",
       "    <tr>\n",
       "      <th>4</th>\n",
       "      <td>$11500</td>\n",
       "    </tr>\n",
       "  </tbody>\n",
       "</table>\n",
       "</div>"
      ],
      "text/plain": [
       "        0\n",
       "0   $9999\n",
       "1   $9999\n",
       "2    $112\n",
       "3    $112\n",
       "4  $11500"
      ]
     },
     "execution_count": 10,
     "metadata": {},
     "output_type": "execute_result"
    }
   ],
   "source": [
    "df = rv_info(\"sanfrancisco\")\n",
    "df.head()"
   ]
  },
  {
   "cell_type": "markdown",
   "metadata": {},
   "source": [
    "\n",
    "\n",
    "## 2.1 Create a mapping of cities to cooresponding regional Craigslist URLs\n",
    "\n",
    "Major US cities on Craigslist typically have their own cooresponding section (ie: SFBay Area, NYC, Boston, Miami, Seattle, etc).  Later, I will use these to query search results for various metropolitian regions listed on Craigslist.  Between the major metropolitan Craigslist sites, the only thing that will differ is the URL's that correspond to them.\n",
    "\n",
    "The point of the \"mapping\":  Create a data structure that allows to iterate with both the name of the city from Wikipedia, with the cooresponding variable that that will allow to construct each craigslist URL for each region.\n",
    "\n",
    "> For San Francsico (the Bay Area metropolitan area), the url for the RV search result is:\n",
    "> http://sfbay.craigslist.org/search/sss?query=rv\n",
    ">\n",
    "> The convention is http://[region].craigslist.org/search/sss?query=rf\n",
    "> Replacing [region] with the cooresponding city name will allow to quickly iterate through each regional Craigslist site, and scrape the prices from the search results.  \n"
   ]
  },
  {
   "cell_type": "code",
   "execution_count": 11,
   "metadata": {
    "collapsed": false
   },
   "outputs": [],
   "source": [
    "city_map  = {\n",
    "    \"sanfrancisco\":\"sfbayarea\",\n",
    "    \"sfbayarea\":\"sfbayarea\",\n",
    "    \"newyork\": \"newyork\",\n",
    "    \"nyc\": \"newyork\",\n",
    "    \"losangeles\": \"losangeles\",\n",
    "    \"la\":\"losangeles\",\n",
    "    \"chicago\":\"chicago\",\n",
    "    \"metro_chicago\":\"chicago\",\n",
    "    \"houston\":\"houston\",\n",
    "    \"philadelphia\":\"philadelphia\",\n",
    "    \"philly\":\"philadelphia\",\n",
    "    \"phoenix\":\"phoenix\",\n",
    "    \"sanantonio\":\"sanantonio\",\n",
    "    \"sandiego\":\"sandiego\",\n",
    "    \"dallas\":\"dallas\",\n",
    "    \"the_big_d\":\"dallas\",\n",
    "    \"sanjose\":\"sfbayarea\"\n",
    "}"
   ]
  },
  {
   "cell_type": "markdown",
   "metadata": {},
   "source": [
    "\n",
    "\n",
    "## 3. Define a function to caculate mean and median price per city.\n",
    "\n",
    "Now that I've created a list of cities I want to scrape, I adapt the solution for grabbing data in one region site, to grab data for all regional sites collected, then calculate the mean and median price of RV results from each city.\n",
    "\n",
    "> I look at the URLs from a few different regions (ie: portland, phoenix, sfbay), and find what they have in common.  I determine the area in the URL string that needs to change the least, and figure out how to replace only that portion of the URL in order to iterate through each city."
   ]
  },
  {
   "cell_type": "code",
   "execution_count": 125,
   "metadata": {
    "collapsed": false
   },
   "outputs": [],
   "source": [
    "def mean_med(rvs):\n",
    "    \n",
    "    df2_clean = [float(x.replace('$','')) for x in rvs[0]]\n",
    "    \n",
    "    mean_ =  sum(df2_clean) /float(len(df2_clean))\n",
    "    print \"mean is:\", mean_\n",
    "    \n",
    "    median_ = np.median(np.array(df2_clean))\n",
    "    print \"median is:\", median_\n",
    "    \n",
    "    return mean_, median_"
   ]
  },
  {
   "cell_type": "code",
   "execution_count": 126,
   "metadata": {
    "collapsed": false
   },
   "outputs": [
    {
     "name": "stdout",
     "output_type": "stream",
     "text": [
      "houston\n",
      "mean is: 24961.25\n",
      "median is: 18491.0\n",
      "metro_chicago\n",
      "mean is: 5218.42253521\n",
      "median is: 200.0\n",
      "losangeles\n",
      "mean is: 23214.1176471\n",
      "median is: 20999.0\n",
      "sanfrancisco\n",
      "mean is: 29017.0\n",
      "median is: 24247.0\n",
      "sandiego\n",
      "mean is: 13514.9102564\n",
      "median is: 214.5\n",
      "phoenix\n",
      "mean is: 29704.3010753\n",
      "median is: 26465.0\n",
      "sfbayarea\n",
      "mean is: 29017.0\n",
      "median is: 24247.0\n",
      "newyork\n",
      "mean is: 12518.225\n",
      "median is: 2000.0\n",
      "la\n",
      "mean is: 23214.1176471\n",
      "median is: 20999.0\n",
      "philadelphia\n",
      "mean is: 20835.1666667\n",
      "median is: 3250.0\n",
      "sanantonio\n",
      "mean is: 33754.6363636\n",
      "median is: 24983.0\n",
      "the_big_d\n",
      "mean is: 23692.9538462\n",
      "median is: 19995.0\n",
      "dallas\n",
      "mean is: 23692.9538462\n",
      "median is: 19995.0\n",
      "nyc\n",
      "mean is: 12518.225\n",
      "median is: 2000.0\n",
      "philly\n",
      "mean is: 20835.1666667\n",
      "median is: 3250.0\n",
      "chicago\n",
      "mean is: 5218.42253521\n",
      "median is: 200.0\n",
      "sanjose\n",
      "mean is: 29017.0\n",
      "median is: 24247.0\n"
     ]
    }
   ],
   "source": [
    "res3 = {}\n",
    "\n",
    "for city  in city_map:\n",
    "    \n",
    "    df3 = rv_info(city_map[city])\n",
    "    print city\n",
    "    (mean1, med1) = mean_med(df3)\n",
    "    res3[city] = [mean1, med1]\n",
    "    "
   ]
  },
  {
   "cell_type": "code",
   "execution_count": 122,
   "metadata": {
    "collapsed": false
   },
   "outputs": [
    {
     "data": {
      "text/plain": [
       "{'chicago': [5218.422535211268, 200.0],\n",
       " 'dallas': [23692.953846153847, 19995.0],\n",
       " 'houston': [24961.25, 18491.0],\n",
       " 'la': [23214.117647058825, 20999.0],\n",
       " 'losangeles': [23214.117647058825, 20999.0],\n",
       " 'metro_chicago': [5218.422535211268, 200.0],\n",
       " 'newyork': [12518.225, 2000.0],\n",
       " 'nyc': [12518.225, 2000.0],\n",
       " 'philadelphia': [20835.166666666668, 3250.0],\n",
       " 'philly': [20835.166666666668, 3250.0],\n",
       " 'phoenix': [29704.301075268817, 26465.0],\n",
       " 'sanantonio': [33754.63636363636, 24983.0],\n",
       " 'sandiego': [13514.910256410256, 214.5],\n",
       " 'sanfrancisco': [29017.0, 24247.0],\n",
       " 'sanjose': [29017.0, 24247.0],\n",
       " 'sfbayarea': [29017.0, 24247.0],\n",
       " 'the_big_d': [23692.953846153847, 19995.0]}"
      ]
     },
     "execution_count": 122,
     "metadata": {},
     "output_type": "execute_result"
    }
   ],
   "source": [
    "# Store results into something like this:\n",
    "# df = pd.DataFrame({'City':[mean, median]})\n",
    "# Maybe do a df.T\n",
    "res3"
   ]
  },
  {
   "cell_type": "markdown",
   "metadata": {},
   "source": [
    "\n",
    "\n",
    "## 4. Run now the  scraping process, and save the  results to a CSV file."
   ]
  },
  {
   "cell_type": "code",
   "execution_count": 102,
   "metadata": {
    "collapsed": false,
    "scrolled": true
   },
   "outputs": [],
   "source": [
    "# use the resolved url, not the ?q= format\n",
    "# http://sfbay.craigslist.org/search/rva\n",
    "\n",
    "rv_cl_data = pd.read_csv('rv_craiglist.csv')\n",
    "rv_cl_data = pd.read_csv('rv_craiglist.9.2.csv')"
   ]
  },
  {
   "cell_type": "code",
   "execution_count": 107,
   "metadata": {
    "collapsed": true
   },
   "outputs": [],
   "source": [
    "rv_cl_data_df = pd.DataFrame(rv_cl_data)"
   ]
  },
  {
   "cell_type": "code",
   "execution_count": 116,
   "metadata": {
    "collapsed": false
   },
   "outputs": [
    {
     "data": {
      "text/plain": [
       "0    $123388\n",
       "1    $123388\n",
       "2    $123388\n",
       "3    $123388\n",
       "4    $123388\n",
       "Name: price, dtype: object"
      ]
     },
     "execution_count": 116,
     "metadata": {},
     "output_type": "execute_result"
    }
   ],
   "source": [
    "rv_cl_data_df['price'].head()"
   ]
  },
  {
   "cell_type": "code",
   "execution_count": 119,
   "metadata": {
    "collapsed": false
   },
   "outputs": [
    {
     "name": "stdout",
     "output_type": "stream",
     "text": [
      "mean for sfbayarea is: 31554.25\n",
      "median for sfbayarea is: 21994.5\n"
     ]
    }
   ],
   "source": [
    "df2_clean = [float(x.replace('$','')) for x in rv_cl_data_df['price']]\n",
    "    \n",
    "mean_ =  sum(df2_clean) /float(len(df2_clean))\n",
    "print \"mean for sfbayarea is:\", mean_\n",
    "    \n",
    "median_ = np.median(np.array(df2_clean))\n",
    "print \"median for sfbayarea is:\", median_"
   ]
  },
  {
   "cell_type": "code",
   "execution_count": null,
   "metadata": {
    "collapsed": true
   },
   "outputs": [],
   "source": [
    "#set up a pipeline for analysis"
   ]
  },
  {
   "cell_type": "markdown",
   "metadata": {},
   "source": [
    "\n",
    "\n",
    "## 5. Do an analysis of the RV market.\n",
    "\n",
    "Go head I'll wait.  Anything notable about the data?"
   ]
  },
  {
   "cell_type": "code",
   "execution_count": 103,
   "metadata": {
    "collapsed": false
   },
   "outputs": [],
   "source": [
    "df_res3 = pd.DataFrame(res3)"
   ]
  },
  {
   "cell_type": "code",
   "execution_count": 104,
   "metadata": {
    "collapsed": false
   },
   "outputs": [],
   "source": [
    "df_res4 = df_res3.T"
   ]
  },
  {
   "cell_type": "code",
   "execution_count": 105,
   "metadata": {
    "collapsed": false
   },
   "outputs": [],
   "source": [
    "df_res4.rename(columns={'0':'mean', '1':'median'}, inplace=True)"
   ]
  },
  {
   "cell_type": "code",
   "execution_count": 106,
   "metadata": {
    "collapsed": false
   },
   "outputs": [
    {
     "data": {
      "text/html": [
       "<div>\n",
       "<table border=\"1\" class=\"dataframe\">\n",
       "  <thead>\n",
       "    <tr style=\"text-align: right;\">\n",
       "      <th></th>\n",
       "      <th>0</th>\n",
       "      <th>1</th>\n",
       "    </tr>\n",
       "  </thead>\n",
       "  <tbody>\n",
       "    <tr>\n",
       "      <th>chicago</th>\n",
       "      <td>6155.000000</td>\n",
       "      <td>200.0</td>\n",
       "    </tr>\n",
       "    <tr>\n",
       "      <th>dallas</th>\n",
       "      <td>24121.000000</td>\n",
       "      <td>19995.0</td>\n",
       "    </tr>\n",
       "    <tr>\n",
       "      <th>houston</th>\n",
       "      <td>21121.750000</td>\n",
       "      <td>14944.0</td>\n",
       "    </tr>\n",
       "    <tr>\n",
       "      <th>la</th>\n",
       "      <td>26562.875000</td>\n",
       "      <td>20499.0</td>\n",
       "    </tr>\n",
       "    <tr>\n",
       "      <th>losangeles</th>\n",
       "      <td>26562.875000</td>\n",
       "      <td>20499.0</td>\n",
       "    </tr>\n",
       "    <tr>\n",
       "      <th>metro_chicago</th>\n",
       "      <td>6155.000000</td>\n",
       "      <td>200.0</td>\n",
       "    </tr>\n",
       "    <tr>\n",
       "      <th>newyork</th>\n",
       "      <td>9565.348837</td>\n",
       "      <td>1000.0</td>\n",
       "    </tr>\n",
       "    <tr>\n",
       "      <th>nyc</th>\n",
       "      <td>9565.348837</td>\n",
       "      <td>1000.0</td>\n",
       "    </tr>\n",
       "    <tr>\n",
       "      <th>philadelphia</th>\n",
       "      <td>21229.977528</td>\n",
       "      <td>3500.0</td>\n",
       "    </tr>\n",
       "    <tr>\n",
       "      <th>philly</th>\n",
       "      <td>21229.977528</td>\n",
       "      <td>3500.0</td>\n",
       "    </tr>\n",
       "    <tr>\n",
       "      <th>phoenix</th>\n",
       "      <td>28870.223404</td>\n",
       "      <td>26230.0</td>\n",
       "    </tr>\n",
       "    <tr>\n",
       "      <th>sanantonio</th>\n",
       "      <td>40360.857143</td>\n",
       "      <td>26900.0</td>\n",
       "    </tr>\n",
       "    <tr>\n",
       "      <th>sandiego</th>\n",
       "      <td>23444.512500</td>\n",
       "      <td>650.0</td>\n",
       "    </tr>\n",
       "    <tr>\n",
       "      <th>sanfrancisco</th>\n",
       "      <td>28768.350000</td>\n",
       "      <td>20499.0</td>\n",
       "    </tr>\n",
       "    <tr>\n",
       "      <th>sanjose</th>\n",
       "      <td>28768.350000</td>\n",
       "      <td>20499.0</td>\n",
       "    </tr>\n",
       "    <tr>\n",
       "      <th>sfbayarea</th>\n",
       "      <td>28768.350000</td>\n",
       "      <td>20499.0</td>\n",
       "    </tr>\n",
       "    <tr>\n",
       "      <th>the_big_d</th>\n",
       "      <td>24121.000000</td>\n",
       "      <td>19995.0</td>\n",
       "    </tr>\n",
       "  </tbody>\n",
       "</table>\n",
       "</div>"
      ],
      "text/plain": [
       "                          0        1\n",
       "chicago         6155.000000    200.0\n",
       "dallas         24121.000000  19995.0\n",
       "houston        21121.750000  14944.0\n",
       "la             26562.875000  20499.0\n",
       "losangeles     26562.875000  20499.0\n",
       "metro_chicago   6155.000000    200.0\n",
       "newyork         9565.348837   1000.0\n",
       "nyc             9565.348837   1000.0\n",
       "philadelphia   21229.977528   3500.0\n",
       "philly         21229.977528   3500.0\n",
       "phoenix        28870.223404  26230.0\n",
       "sanantonio     40360.857143  26900.0\n",
       "sandiego       23444.512500    650.0\n",
       "sanfrancisco   28768.350000  20499.0\n",
       "sanjose        28768.350000  20499.0\n",
       "sfbayarea      28768.350000  20499.0\n",
       "the_big_d      24121.000000  19995.0"
      ]
     },
     "execution_count": 106,
     "metadata": {},
     "output_type": "execute_result"
    }
   ],
   "source": [
    "df_res4"
   ]
  },
  {
   "cell_type": "markdown",
   "metadata": {
    "collapsed": true
   },
   "source": [
    "\n",
    "\n",
    "### 5.1 Does it makes sense to buy RVs in one region and sell them in another?\n",
    "\n",
    "Assuming the cost of shipping or driving from one regional market to another."
   ]
  },
  {
   "cell_type": "code",
   "execution_count": 22,
   "metadata": {
    "collapsed": false
   },
   "outputs": [
    {
     "name": "stderr",
     "output_type": "stream",
     "text": [
      "/Users/Ovid/anaconda2/envs/dsi/lib/python2.7/site-packages/ipykernel/__main__.py:1: FutureWarning: order is deprecated, use sort_values(...)\n",
      "  if __name__ == '__main__':\n"
     ]
    },
    {
     "data": {
      "text/plain": [
       "chicago           6155.000000\n",
       "metro_chicago     6155.000000\n",
       "nyc               9565.348837\n",
       "newyork           9565.348837\n",
       "houston          21121.750000\n",
       "philly           21229.977528\n",
       "philadelphia     21229.977528\n",
       "sandiego         23444.512500\n",
       "dallas           24121.000000\n",
       "the_big_d        24121.000000\n",
       "la               26562.875000\n",
       "losangeles       26562.875000\n",
       "sfbayarea        28768.350000\n",
       "sanfrancisco     28768.350000\n",
       "sanjose          28768.350000\n",
       "phoenix          28870.223404\n",
       "sanantonio       40360.857143\n",
       "Name: 0, dtype: float64"
      ]
     },
     "execution_count": 22,
     "metadata": {},
     "output_type": "execute_result"
    }
   ],
   "source": [
    "prices_mean_ordered = df_res4[0].order()\n",
    "prices_mean_ordered"
   ]
  },
  {
   "cell_type": "code",
   "execution_count": 23,
   "metadata": {
    "collapsed": false
   },
   "outputs": [
    {
     "data": {
      "text/plain": [
       "<matplotlib.axes._subplots.AxesSubplot at 0x117b45090>"
      ]
     },
     "execution_count": 23,
     "metadata": {},
     "output_type": "execute_result"
    },
    {
     "data": {
      "image/png": "[encoded data removed]",
      "text/plain": [
       "<matplotlib.figure.Figure at 0x117b18910>"
      ]
     },
     "metadata": {
      "image/png": {
       "height": 258,
       "width": 416
      }
     },
     "output_type": "display_data"
    }
   ],
   "source": [
    "df_res4[0].hist()"
   ]
  },
  {
   "cell_type": "code",
   "execution_count": 24,
   "metadata": {
    "collapsed": false
   },
   "outputs": [
    {
     "name": "stderr",
     "output_type": "stream",
     "text": [
      "/Users/Ovid/anaconda2/envs/dsi/lib/python2.7/site-packages/ipykernel/__main__.py:1: FutureWarning: order is deprecated, use sort_values(...)\n",
      "  if __name__ == '__main__':\n"
     ]
    },
    {
     "data": {
      "text/plain": [
       "chicago            200.0\n",
       "metro_chicago      200.0\n",
       "sandiego           650.0\n",
       "nyc               1000.0\n",
       "newyork           1000.0\n",
       "philly            3500.0\n",
       "philadelphia      3500.0\n",
       "houston          14944.0\n",
       "dallas           19995.0\n",
       "the_big_d        19995.0\n",
       "la               20499.0\n",
       "sfbayarea        20499.0\n",
       "sanfrancisco     20499.0\n",
       "sanjose          20499.0\n",
       "losangeles       20499.0\n",
       "phoenix          26230.0\n",
       "sanantonio       26900.0\n",
       "Name: 1, dtype: float64"
      ]
     },
     "execution_count": 24,
     "metadata": {},
     "output_type": "execute_result"
    }
   ],
   "source": [
    "prices_median_ordered = df_res4[1].order()\n",
    "prices_median_ordered"
   ]
  },
  {
   "cell_type": "code",
   "execution_count": 25,
   "metadata": {
    "collapsed": false
   },
   "outputs": [
    {
     "data": {
      "text/plain": [
       "<matplotlib.axes._subplots.AxesSubplot at 0x118122490>"
      ]
     },
     "execution_count": 25,
     "metadata": {},
     "output_type": "execute_result"
    },
    {
     "data": {
      "image/png": "[encoded data removed]",
      "text/plain": [
       "<matplotlib.figure.Figure at 0x1047addd0>"
      ]
     },
     "metadata": {
      "image/png": {
       "height": 258,
       "width": 416
      }
     },
     "output_type": "display_data"
    }
   ],
   "source": [
    "df_res4[1].hist()"
   ]
  },
  {
   "cell_type": "raw",
   "metadata": {},
   "source": [
    "Based on the analysis above, the top 2 highest mean values are in LA and San Antonio,\n",
    "and the lowest are in Chicago and NYC. It might make sense to buy in the lowest 2 cities\n",
    "and sell in the highest 2. \n",
    "\n",
    "Regarding median values, the top 2 highest values are in San Antonio and Phoenix, the lowest 2 \n",
    "are Chicago and San Diego. Again, we should  buy in the lowest 2 and sell in the highest 2. \n",
    "\n",
    "If we had to pick just one pair of cities, Chicago is on of the lowest in both mean and median, and San Antonio is one of the highest in both mean and median. \n"
   ]
  },
  {
   "cell_type": "code",
   "execution_count": null,
   "metadata": {
    "collapsed": true
   },
   "outputs": [],
   "source": []
  }
 ],
 "metadata": {
  "anaconda-cloud": {},
  "kernelspec": {
   "display_name": "Python [dsi]",
   "language": "python",
   "name": "Python [dsi]"
  },
  "language_info": {
   "codemirror_mode": {
    "name": "ipython",
    "version": 2
   },
   "file_extension": ".py",
   "mimetype": "text/x-python",
   "name": "python",
   "nbconvert_exporter": "python",
   "pygments_lexer": "ipython2",
   "version": "2.7.12"
  }
 },
 "nbformat": 4,
 "nbformat_minor": 0
}
